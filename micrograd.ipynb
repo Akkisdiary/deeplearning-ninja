{
  "cells": [
    {
      "cell_type": "code",
      "execution_count": null,
      "metadata": {
        "id": "2CUNYu9eGo6m"
      },
      "outputs": [],
      "source": [
        "class Value:\n",
        "  def __init__(self, data):\n",
        "    self.data = data"
      ]
    },
    {
      "cell_type": "code",
      "execution_count": null,
      "metadata": {
        "id": "l23rOeEgGo6o"
      },
      "outputs": [],
      "source": []
    }
  ],
  "metadata": {
    "language_info": {
      "name": "python"
    },
    "colab": {
      "provenance": []
    }
  },
  "nbformat": 4,
  "nbformat_minor": 0
}